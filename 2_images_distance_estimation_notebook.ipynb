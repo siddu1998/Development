{
 "cells": [
  {
   "cell_type": "markdown",
   "metadata": {},
   "source": [
    "Estimating Distance between the Vehicle and Traffic sign, from two images, taken at a distance calcaulated by the difference in their GPS/UTM cordinates. "
   ]
  },
  {
   "cell_type": "code",
   "execution_count": 34,
   "metadata": {},
   "outputs": [],
   "source": [
    "import math\n",
    "import utm\n",
    "import cv2\n",
    "import matplotlib.pyplot as plt\n",
    "import numpy as np\n",
    "import pandas as pd\n",
    "from scipy.spatial import distance"
   ]
  },
  {
   "cell_type": "markdown",
   "metadata": {},
   "source": [
    "Getting Distances between two UTM cordinates using distance.eculedean(param_1,param_2)"
   ]
  },
  {
   "cell_type": "code",
   "execution_count": 16,
   "metadata": {},
   "outputs": [],
   "source": [
    "def get_distance_between_two_consecutive_images(cordinate_1,cordinate_2):\n",
    "    return distance.euclidean(cordinate_1,cordinate_2)"
   ]
  },
  {
   "cell_type": "markdown",
   "metadata": {},
   "source": [
    "The images if subjected certain distortions."
   ]
  },
  {
   "cell_type": "code",
   "execution_count": 17,
   "metadata": {},
   "outputs": [],
   "source": [
    "def clear_distortions(image):\n",
    "    #distortion matrics\n",
    "\n",
    "    #distortion matrix_smartphone\n",
    "    mtx=[[1203.032354,0,720.0],[0,1284.609285,540.0],[0,0,1]]\n",
    "    dist=[ 0,0,0,0 ]\n",
    "\n",
    "    #distortion_matrix_big camera\n",
    "    #mtx=[[2468.6668434782608,0,1228.876620888020],[0,2468.6668434782608,1012.976060035710],[0,0,1]] \n",
    "    #dist=[ 0.00125859 , 0 ,  -0.00010658,0 ]\n",
    "    \n",
    "    #converting into numpy\n",
    "    mtx = np.array(mtx)\n",
    "    dist=np.array(dist)\n",
    "    \n",
    "    #image dimensions\n",
    "    image_height,image_width,_=image.shape\n",
    "\n",
    "    #pumping distortion matrix\n",
    "    newcameramtx, roi=cv2.getOptimalNewCameraMatrix(mtx,dist,(image_width,image_height),1,(image_width,image_height))\n",
    "\n",
    "    #undistort image_before_distance\n",
    "    image = cv2.undistort(image, mtx, dist, None, newcameramtx)\n",
    "    x,y,w,h = roi\n",
    "    undistorted_image = image[y:y+h, x:x+w]\n",
    "\n",
    "    #undistort image_after_distance\n",
    "\n",
    "    return undistorted_image"
   ]
  },
  {
   "cell_type": "markdown",
   "metadata": {},
   "source": [
    "We will be parsing two annotations 1. camera location 2. location of the sign in the image "
   ]
  },
  {
   "cell_type": "code",
   "execution_count": 18,
   "metadata": {},
   "outputs": [],
   "source": [
    "def parsing_annotations(highway_sign_annotations,image_file_name):\n",
    "    highway_signs = pd.read_csv(highway_sign_annotations)\n",
    "    for index,row in highway_signs.iterrows():\n",
    "        if row['frame_name']== image_file_name:\n",
    "            sign_top_left_x=row['top_x']\n",
    "            sign_top_left_y=row['top_y']\n",
    "            sign_width=row['width']\n",
    "            sign_height=row['height']\n",
    "            class_of_sign=['class']\n",
    "\n",
    "    return [sign_top_left_x,sign_top_left_y,sign_width,sign_height,class_of_sign]\n"
   ]
  },
  {
   "cell_type": "code",
   "execution_count": 19,
   "metadata": {},
   "outputs": [],
   "source": [
    "def parsing_camrea_annotations(image,camera_annotations):\n",
    "    camera_annotations=pd.read_csv(camera_annotations)\n",
    "    \n",
    "    for index,row in camera_annotations.iterrows():\n",
    "        if row[\"image_name\"]==image:\n",
    "            camera_cordinates_x=row['x']\n",
    "            camera_cordinates_y=row['y']\n",
    "    return (camera_cordinates_x,camera_cordinates_y)\n",
    "            "
   ]
  },
  {
   "cell_type": "markdown",
   "metadata": {},
   "source": [
    "Calculating the center of the sign after parsing data correponding to the images"
   ]
  },
  {
   "cell_type": "code",
   "execution_count": 20,
   "metadata": {},
   "outputs": [],
   "source": [
    "def find_center_of_sign(sign_details_list):\n",
    "    sign_top_left_x=sign_details_list[0]\n",
    "    sign_top_left_y=sign_details_list[1]\n",
    "    sign_width=sign_details_list[2]\n",
    "    sign_height=sign_details_list[3]\n",
    "\n",
    "    location_sign=(int((sign_top_left_x+sign_top_left_x+sign_width)/2),int((sign_top_left_y+sign_top_left_y+sign_height)/2))\n",
    "    return location_sign"
   ]
  },
  {
   "cell_type": "markdown",
   "metadata": {},
   "source": [
    "The sign maybe to the right or left of the optical axis"
   ]
  },
  {
   "cell_type": "code",
   "execution_count": 28,
   "metadata": {},
   "outputs": [],
   "source": [
    "def finding_relative_location_of_image(center_sign,image_width):\n",
    "    if center_sign[0]<image_width/2:\n",
    "        print(\"sign is to the left of the vehicle\")\n",
    "        return -1\n",
    "    elif center_sign[0]>image_width/2:\n",
    "        print(\"sign is to the right of the vehicle\")\n",
    "        return 1\n",
    "    else:\n",
    "        print(\"sign is alligned with the optical axis\")\n",
    "        return 0\n"
   ]
  },
  {
   "cell_type": "markdown",
   "metadata": {},
   "source": [
    "Difference in cordinates\n"
   ]
  },
  {
   "cell_type": "code",
   "execution_count": 29,
   "metadata": {},
   "outputs": [],
   "source": [
    "def distance_two_points_along_x(A,B):\n",
    "    return A[0]-B[0]\n",
    "def distance_two_points_along_y(A,B):\n",
    "    return A[1]-B[1]\n"
   ]
  },
  {
   "cell_type": "markdown",
   "metadata": {},
   "source": [
    "Now we have to find how wide (w) and how ahead(l) the sign is from the car"
   ]
  },
  {
   "cell_type": "code",
   "execution_count": 30,
   "metadata": {},
   "outputs": [],
   "source": [
    "def trignometric_calculations(x1,x2,f,camera_cordinates_1,camera_cordinates_2):\n",
    "    dst= get_distance_between_two_consecutive_images(camera_cordinates_1,camera_cordinates_2)   \n",
    "    print('The images are taken at a distance of {} m '.format(dst)) \n",
    "    if(x2-x1)!=0:\n",
    "        l =  dst * x1/(x2-x1) \n",
    "        w = l * (x2)/f \n",
    "    elif (x2-x1)==0:\n",
    "        l=dst * x1\n",
    "        w=l*(x2)/f\n",
    "    #w--> how right or how left the sign is (x-axis)\n",
    "    #l--> how ahead the sign is (y-axis)\n",
    "    print('how inclined:', w) #add to the x-cordinate\n",
    "    print('how ahead:', l) #add to the y-cordinate\n",
    "    \n",
    "\n",
    "    return (w,l)\n"
   ]
  },
  {
   "cell_type": "markdown",
   "metadata": {},
   "source": [
    "Now since we know how ahead or how wide the sign is from the camera cordinates, we need to add these up to get the approximate location of the sign. "
   ]
  },
  {
   "cell_type": "code",
   "execution_count": 35,
   "metadata": {},
   "outputs": [],
   "source": [
    "\"\"\"\n",
    "TODO: to further refine  \n",
    "How do we exactly add up the distances to the UTM cordinates of the camera. Because a simple addition causes\n",
    "some drift and the final locations do not reflect the width and length ahead obtained.\n",
    "\n",
    "I guess there is no constant addition or subtraction and it also depends on the direction of motion of the vehicle?\n",
    "\"\"\"\n",
    "def camera_to_sign(camera_cordinates,distancs_tuple,right_or_left):\n",
    "    #(w,l)\n",
    "    #utm cordinates x,y how east and how north\n",
    "    #how inclined (how east) #how farther away north\n",
    "    #return (camera_cordinates[0],camera_cordinates[1])\n",
    "    \n",
    "    return (camera_cordinates[0]+distancs_tuple[1],camera_cordinates[1]-distancs_tuple[0],utm.to_latlon(camera_cordinates[0]+distancs_tuple[1], camera_cordinates[1]-distancs_tuple[0], 16, 'N'))"
   ]
  },
  {
   "cell_type": "markdown",
   "metadata": {},
   "source": [
    "Using all the utility functions above"
   ]
  },
  {
   "cell_type": "code",
   "execution_count": 36,
   "metadata": {},
   "outputs": [],
   "source": [
    "def calculation_of_distances(image_file_name_before_distance,image_file_name_after_distance,sign_annotations,camera_annotations,f):\n",
    "    #load image     \n",
    "    print(image_file_name_before_distance,image_file_name_after_distance)\n",
    "    img_before_distance = cv2.imread(image_file_name_before_distance)\n",
    "    img_after_distance  = cv2.imread(image_file_name_after_distance)\n",
    "    #clear distortions\n",
    "    #img_before_distance = clear_distortions(img_before_distance)\n",
    "    #img_after_distance  = clear_distortions(img_after_distance)\n",
    "    #calculate image center and dimensions\n",
    "    image_height,image_width,_=img_before_distance.shape\n",
    "    image_center = (int(image_width/2),int(image_height/2))\n",
    "    #parse annotations for details\n",
    "    sign_before_distance = parsing_annotations(sign_annotations,image_file_name_before_distance)\n",
    "    sign_after_distance  = parsing_annotations(sign_annotations,image_file_name_after_distance)\n",
    "    #if we are dealing with the same image proceed as else inform and kill \n",
    "    if sign_after_distance[4]==sign_before_distance[4]:\n",
    "        #Find center of sign\n",
    "        center_before_distance = find_center_of_sign(sign_before_distance)\n",
    "        center_after_distance  = find_center_of_sign(sign_after_distance)\n",
    "        #distance between center and sign\n",
    "        x1=distance_two_points_along_x(center_before_distance,image_center)\n",
    "        x2=distance_two_points_along_x(center_after_distance,image_center)\n",
    "        #getting camera_cordinates_to_calculate distance between images\n",
    "        camera_cordinates=parsing_camrea_annotations(image_file_name_after_distance,camera_annotations)\n",
    "        camera_cordinates_image_1=parsing_camrea_annotations(image_file_name_before_distance,camera_annotations)\n",
    "        #getting distances from camera\n",
    "        distance_tuple=trignometric_calculations(x1,x2,f,camera_cordinates_image_1,camera_cordinates)\n",
    "        #understanding spatial location\n",
    "        right_or_left = finding_relative_location_of_image(center_after_distance,image_width)\n",
    "        #adding and subtracting images \n",
    "        final_positions = camera_to_sign(camera_cordinates,distance_tuple,right_or_left)\n",
    "        #error_analysis(final_positions)\n",
    "        return final_positions\n",
    "    else:\n",
    "        print('Sorry, We could not find the same sign on both the images')\n",
    "        return (0,0)\n",
    "    "
   ]
  },
  {
   "cell_type": "code",
   "execution_count": 37,
   "metadata": {},
   "outputs": [
    {
     "name": "stdout",
     "output_type": "stream",
     "text": [
      "0002876.jpg 0002877.jpg\n",
      "The images are taken at a distance of 4.9361209228242915 m \n",
      "how inclined: -16.148372533995765\n",
      "how ahead: 52.33855200708931\n",
      "sign is to the left of the vehicle\n",
      "(736553.7537799644, 3750745.955422319, (33.87054648203086, -84.44264375339033))\n"
     ]
    }
   ],
   "source": [
    "ans=calculation_of_distances('0002876.jpg','0002877.jpg','i75_sign_annotations.csv','i75_camera_cordinates.csv',2369.2468969636364)\n",
    "print(ans)"
   ]
  },
  {
   "cell_type": "code",
   "execution_count": null,
   "metadata": {},
   "outputs": [],
   "source": []
  }
 ],
 "metadata": {
  "kernelspec": {
   "display_name": "Python 3",
   "language": "python",
   "name": "python3"
  },
  "language_info": {
   "codemirror_mode": {
    "name": "ipython",
    "version": 3
   },
   "file_extension": ".py",
   "mimetype": "text/x-python",
   "name": "python",
   "nbconvert_exporter": "python",
   "pygments_lexer": "ipython3",
   "version": "3.5.2"
  }
 },
 "nbformat": 4,
 "nbformat_minor": 2
}
